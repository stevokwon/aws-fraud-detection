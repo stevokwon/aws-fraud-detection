{
 "cells": [
  {
   "cell_type": "markdown",
   "id": "4bcebd9a",
   "metadata": {},
   "source": [
    "## 02_model_dev.ipynb\n",
    "## 🚀 Model Development: Credit Card Fraud Detection\n",
    "## Using Logistic Regression & LightGBM"
   ]
  },
  {
   "cell_type": "code",
   "execution_count": null,
   "id": "7157ede6",
   "metadata": {},
   "outputs": [],
   "source": [
    "import pandas as pd\n",
    "import numpy as np\n",
    "import matplotlib.pyplot as plt\n",
    "import seaborn as sns\n",
    "from sklearn.model_selection import train_test_split\n",
    "from imblearn.over_sampling import SMOTE\n",
    "from sklearn.linear_model import LogisticRegression\n",
    "from lightGBM import LGBMClassifier\n",
    "from sklearn.metrics import classification_report, roc_auc_score, precision_recall_curve, roc_curve, confusion_matrix\n",
    "import joblib\n",
    "\n",
    "# Load and prepare data\n",
    "df = pd.read_csv('data/processed/creditcard_clean.csv')\n",
    "X = df.drop('Class', axis=1)\n",
    "y = df['Class']"
   ]
  },
  {
   "cell_type": "code",
   "execution_count": 5,
   "id": "4b25d5ff",
   "metadata": {},
   "outputs": [
    {
     "name": "stdout",
     "output_type": "stream",
     "text": [
      "(227845, 46) (56962, 46) (227845,) (56962,)\n"
     ]
    }
   ],
   "source": [
    "# Train-test split\n",
    "X_train, X_test, y_train, y_test = train_test_split(X, y, stratify=y, test_size=0.2, random_state=42)\n",
    "print(X_train.shape, X_test.shape, y_train.shape, y_test.shape)"
   ]
  },
  {
   "cell_type": "code",
   "execution_count": 8,
   "id": "da76e16a",
   "metadata": {},
   "outputs": [
    {
     "ename": "NameError",
     "evalue": "name 'SMOTE' is not defined",
     "output_type": "error",
     "traceback": [
      "\u001b[31m---------------------------------------------------------------------------\u001b[39m",
      "\u001b[31mNameError\u001b[39m                                 Traceback (most recent call last)",
      "\u001b[36mCell\u001b[39m\u001b[36m \u001b[39m\u001b[32mIn[8]\u001b[39m\u001b[32m, line 2\u001b[39m\n\u001b[32m      1\u001b[39m \u001b[38;5;66;03m# 🧪 Apply SMOTE to Training Data\u001b[39;00m\n\u001b[32m----> \u001b[39m\u001b[32m2\u001b[39m smote = \u001b[43mSMOTE\u001b[49m(random_state=\u001b[32m42\u001b[39m)\n\u001b[32m      3\u001b[39m X_train_resampled, y_train_resampled = smote.fit_resample(X_train, y_train)\n",
      "\u001b[31mNameError\u001b[39m: name 'SMOTE' is not defined"
     ]
    }
   ],
   "source": [
    "# 🧪 Apply SMOTE to Training Data\n",
    "smote = SMOTE(random_state=42)\n",
    "X_train_resampled, y_train_resampled = smote.fit_resample(X_train, y_train)"
   ]
  }
 ],
 "metadata": {
  "kernelspec": {
   "display_name": "Python 3",
   "language": "python",
   "name": "python3"
  },
  "language_info": {
   "codemirror_mode": {
    "name": "ipython",
    "version": 3
   },
   "file_extension": ".py",
   "mimetype": "text/x-python",
   "name": "python",
   "nbconvert_exporter": "python",
   "pygments_lexer": "ipython3",
   "version": "3.12.10"
  }
 },
 "nbformat": 4,
 "nbformat_minor": 5
}
